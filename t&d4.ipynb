{
  "nbformat": 4,
  "nbformat_minor": 0,
  "metadata": {
    "colab": {
      "provenance": []
    },
    "kernelspec": {
      "name": "python3",
      "display_name": "Python 3"
    },
    "language_info": {
      "name": "python"
    }
  },
  "cells": [
    {
      "cell_type": "code",
      "source": [
        "import pandas as pd\n",
        "from scipy import stats"
      ],
      "metadata": {
        "id": "C1N6nplguWnc"
      },
      "execution_count": 18,
      "outputs": []
    },
    {
      "cell_type": "code",
      "source": [
        "# CARREGAR DADOS\n",
        "df = pd.read_csv('/content/marketing_AB.csv')\n",
        "GRUPO, CONVERSAO = 'test group', 'converted'"
      ],
      "metadata": {
        "id": "1GlW6wcJysoy"
      },
      "execution_count": 17,
      "outputs": []
    },
    {
      "cell_type": "code",
      "source": [
        "print(f\"Total de usuários: {len(df):,}\")\n",
        "print(f\"Grupos:\\n{df[GRUPO].value_counts()}\")\n",
        "print(f\"Conversões:\\n{df[CONVERSAO].value_counts()}\")"
      ],
      "metadata": {
        "colab": {
          "base_uri": "https://localhost:8080/"
        },
        "id": "HrRawO7Myzbh",
        "outputId": "47ffe5dc-30dc-4ed6-bd2d-3050180d549b"
      },
      "execution_count": 16,
      "outputs": [
        {
          "output_type": "stream",
          "name": "stdout",
          "text": [
            "Total de usuários: 588,101\n",
            "Grupos:\n",
            "test group\n",
            "ad     564577\n",
            "psa     23524\n",
            "Name: count, dtype: int64\n",
            "Conversões:\n",
            "converted\n",
            "False    573258\n",
            "True      14843\n",
            "Name: count, dtype: int64\n"
          ]
        }
      ]
    },
    {
      "cell_type": "code",
      "source": [
        "dados = df.groupby(GRUPO)[CONVERSAO].agg(['count', 'sum', 'mean']).rename(columns={'count': 'usuarios', 'sum': 'conversoes', 'mean': 'taxa'})\n",
        "print(\"\\nResultados por grupo:\")\n",
        "print(dados)"
      ],
      "metadata": {
        "colab": {
          "base_uri": "https://localhost:8080/"
        },
        "id": "mFSF2uPz7SHn",
        "outputId": "bc2457af-2cbd-4c28-d8f5-0ef16c14a843"
      },
      "execution_count": 15,
      "outputs": [
        {
          "output_type": "stream",
          "name": "stdout",
          "text": [
            "\n",
            "Resultados por grupo:\n",
            "            usuarios  conversoes      taxa\n",
            "test group                                \n",
            "ad            564577       14423  0.025547\n",
            "psa            23524         420  0.017854\n"
          ]
        }
      ]
    },
    {
      "cell_type": "code",
      "source": [
        "grupos = list(dados.index)\n",
        "if len(grupos) >= 2:\n",
        "    grupo1, grupo2 = grupos[0], grupos[1]\n",
        "    n1, conv1, taxa1 = dados.loc[grupo1, ['usuarios', 'conversoes', 'taxa']]\n",
        "    n2, conv2, taxa2 = dados.loc[grupo2, ['usuarios', 'conversoes', 'taxa']]\n",
        "\n",
        "    tabela = [[conv1, n1-conv1], [conv2, n2-conv2]]\n",
        "    chi2, p_valor, _, _ = stats.chi2_contingency(tabela)\n",
        "    diferenca = taxa2 - taxa1\n",
        "    lift = (diferenca / taxa1 * 100) if taxa1 > 0 else 0"
      ],
      "metadata": {
        "id": "bppIyDKPzFSK"
      },
      "execution_count": 14,
      "outputs": []
    },
    {
      "cell_type": "code",
      "source": [
        "for grupo in dados.index:\n",
        "    taxa = dados.loc[grupo, 'taxa']\n",
        "    sucesso = \"Bom\" if taxa > 0.05 else \"Médio\" if taxa > 0.02 else \"Ruim\"\n",
        "    print(f\"{grupo}: {sucesso} ({taxa:.2%})\")\n",
        "\n",
        "if len(grupos) >= 2:\n",
        "    print(f\"\\n{grupo1}: {taxa1:.2%}\")\n",
        "    print(f\"{grupo2}: {taxa2:.2%}\")\n",
        "    print(f\"Diferença: {diferenca:+.2%}\")\n",
        "\n",
        "    if diferenca > 0:\n",
        "        print(f\"{grupo2} é melhor\")\n",
        "    elif diferenca < 0:\n",
        "        print(f\"{grupo1} é melhor\")\n",
        "    else:\n",
        "        print(\"Sem diferença\")\n",
        "\n",
        "    if p_valor < 0.05:\n",
        "        print(\"Resultado confiável!\")\n",
        "        if diferenca > 0:\n",
        "            print(f\"Use {grupo2}! Ganha {lift:+.1f}%\")\n",
        "        elif diferenca < 0:\n",
        "            print(f\"Fique com {grupo1}!\")\n",
        "    else:\n",
        "        print(\"Não é confiável. Teste mais!\")"
      ],
      "metadata": {
        "colab": {
          "base_uri": "https://localhost:8080/"
        },
        "id": "BaI5pO938Xmv",
        "outputId": "5aebb228-55c7-4a56-da20-c214ad42e3f0"
      },
      "execution_count": 13,
      "outputs": [
        {
          "output_type": "stream",
          "name": "stdout",
          "text": [
            "ad: Médio (2.55%)\n",
            "psa: Ruim (1.79%)\n",
            "\n",
            "ad: 2.55%\n",
            "psa: 1.79%\n",
            "Diferença: -0.77%\n",
            "ad é melhor\n",
            "Resultado confiável!\n",
            "Fique com ad!\n"
          ]
        }
      ]
    }
  ]
}